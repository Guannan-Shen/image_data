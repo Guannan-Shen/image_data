{
 "cells": [
  {
   "cell_type": "markdown",
   "metadata": {},
   "source": [
    "# Guannan Shen BIOS 7718 Bio Image  HW1 "
   ]
  },
  {
   "cell_type": "code",
   "execution_count": 50,
   "metadata": {
    "collapsed": true
   },
   "outputs": [],
   "source": [
    "# loading required packages\n",
    "import numpy as np\n",
    "import pandas as pd\n",
    "import statsmodels.api as sm\n",
    "import matplotlib.pyplot as plt\n",
    "# install open cv \n",
    "# anaconda show menpo/opencv3\n",
    "# conda install --channel https://conda.anaconda.org/menpo opencv3\n",
    "import cv2 as cv\n",
    "from scipy.odr import odrpack\n",
    "from sklearn import linear_model\n",
    "%matplotlib inline\n",
    "plt.rcParams['figure.figsize'] = (16.0, 12.0)"
   ]
  },
  {
   "cell_type": "markdown",
   "metadata": {},
   "source": [
    "## References\n",
    "https://docs.scipy.org/doc/numpy-1.15.1/reference/generated/numpy.random.multivariate_normal.html  \n",
    "\n",
    "https://docs.scipy.org/doc/numpy-1.13.0/reference/generated/numpy.identity.html  \n",
    "\n",
    "https://scikit-learn.org/stable/modules/generated/sklearn.linear_model.LinearRegression.html\n",
    "\n",
    "https://lectures.quantecon.org/py/ols.html\n",
    "\n",
    "http://blog.rtwilson.com/orthogonal-distance-regression-in-python/\n",
    "\n",
    "https://docs.scipy.org/doc/scipy/reference/odr.html\n",
    "\n",
    "http://mathworld.wolfram.com/LeastSquaresFittingPerpendicularOffsets.html\n",
    "\n",
    "https://stackoverflow.com/questions/29731726/how-to-calculate-a-gaussian-kernel-matrix-efficiently-in-numpy"
   ]
  },
  {
   "cell_type": "markdown",
   "metadata": {},
   "source": [
    "## Question 1  \n",
    "We want to fit a line by minimizing the errors: the sum of squared vertical distances between data points and the line; or we will minimize the sum of squared perpendicular distances between data points and the line"
   ]
  },
  {
   "cell_type": "markdown",
   "metadata": {},
   "source": [
    "### 1 Data Generation\n",
    "Using equation, $1+6x^o −y^o = 0$ to generate n = 30 data points, where $x^o_i = 0, 1, ..., 29$. The noise is assumed to be independent and identically distributed (i.i.d.) and it follows a multivariate normal distribution with mean $µ = 0$ and covariance $Σ = 5^2I$ (I is the 2 × 2 identify matrix).\n"
   ]
  },
  {
   "cell_type": "markdown",
   "metadata": {},
   "source": [
    "Get the clean data points. "
   ]
  },
  {
   "cell_type": "code",
   "execution_count": 157,
   "metadata": {},
   "outputs": [],
   "source": [
    "# variables declaration \n",
    "n = 30\n",
    "N = 100\n",
    "a = 6\n",
    "b = 1 \n",
    "mean = [0,0]\n",
    "cov = 25*np.identity(2)\n",
    "mean1 = [50,2]\n",
    "cov1 = 25*np.identity(2)\n",
    "# 3 columns DF, clean data\n",
    "v_o = pd.DataFrame({'Inter' : [0]*n,\n",
    "                    'x' : range(n),\n",
    "                   'y' : [a*x + b for x in range(n)]} )"
   ]
  },
  {
   "cell_type": "markdown",
   "metadata": {},
   "source": [
    "Get the noise data, with np.random.multivariate_normal. Concatenate a list of 100 DataFrame. "
   ]
  },
  {
   "cell_type": "code",
   "execution_count": 158,
   "metadata": {},
   "outputs": [],
   "source": [
    "# def log(message=None):\n",
    "#     if message:\n",
    "#         print(\"LOG: {0}\".format(message))\n",
    "#     else:\n",
    "#         print('None')\n",
    "# log()"
   ]
  },
  {
   "cell_type": "code",
   "execution_count": 159,
   "metadata": {},
   "outputs": [
    {
     "data": {
      "text/html": [
       "<div>\n",
       "<style>\n",
       "    .dataframe thead tr:only-child th {\n",
       "        text-align: right;\n",
       "    }\n",
       "\n",
       "    .dataframe thead th {\n",
       "        text-align: left;\n",
       "    }\n",
       "\n",
       "    .dataframe tbody tr th {\n",
       "        vertical-align: top;\n",
       "    }\n",
       "</style>\n",
       "<table border=\"1\" class=\"dataframe\">\n",
       "  <thead>\n",
       "    <tr style=\"text-align: right;\">\n",
       "      <th></th>\n",
       "      <th>Inter</th>\n",
       "      <th>x</th>\n",
       "      <th>y</th>\n",
       "    </tr>\n",
       "  </thead>\n",
       "  <tbody>\n",
       "    <tr>\n",
       "      <th>0</th>\n",
       "      <td>1</td>\n",
       "      <td>9.0</td>\n",
       "      <td>3.0</td>\n",
       "    </tr>\n",
       "    <tr>\n",
       "      <th>1</th>\n",
       "      <td>1</td>\n",
       "      <td>6.0</td>\n",
       "      <td>18.0</td>\n",
       "    </tr>\n",
       "    <tr>\n",
       "      <th>2</th>\n",
       "      <td>1</td>\n",
       "      <td>11.0</td>\n",
       "      <td>8.0</td>\n",
       "    </tr>\n",
       "  </tbody>\n",
       "</table>\n",
       "</div>"
      ],
      "text/plain": [
       "   Inter     x     y\n",
       "0      1   9.0   3.0\n",
       "1      1   6.0  18.0\n",
       "2      1  11.0   8.0"
      ]
     },
     "execution_count": 159,
     "metadata": {},
     "output_type": "execute_result"
    }
   ],
   "source": [
    "# np.random.seed(7)\n",
    "# set random seed\n",
    "def noise_gen(n, N, mean, cov, mean1 = None, cov1 = None):\n",
    "    \"\"\"\n",
    "    Assume make one outlier\n",
    "    n = 30 which is the sample size\n",
    "    N = 100 which is the number of simulations\n",
    "    \"\"\"\n",
    "    v = []\n",
    "    if (mean1 is not None) and (cov1 is not None):\n",
    "        print(\"Go Outlier!\")\n",
    "        for i in range(N):\n",
    "            np.random.seed(i)\n",
    "            noise = pd.DataFrame(np.random.multivariate_normal(mean, cov, n).round(0),\n",
    "                        columns=['x', 'y'])\n",
    "            noise['Inter'] = [1]*n\n",
    "            v_i = noise + v_o\n",
    "            v_i.loc[n] = np.append([1], np.random.multivariate_normal(mean1, cov1, 1).round(0))\n",
    "            v.append(v_i)\n",
    "    elif (not mean1) and (not cov1):\n",
    "        for i in range(N):\n",
    "            np.random.seed(i)\n",
    "            noise = pd.DataFrame(np.random.multivariate_normal(mean, cov, n).round(0),\n",
    "                        columns=['x', 'y'])\n",
    "            noise['Inter'] = [1]*n\n",
    "            v_i = noise + v_o\n",
    "            v.append(v_i)\n",
    "    else:\n",
    "        print('Provide both or neither!')\n",
    "    v = pd.concat(v, axis=0)\n",
    "    return v \n",
    "    \n",
    "# v\n",
    "v = noise_gen(n, N, mean, cov)\n",
    "v.head(3)"
   ]
  },
  {
   "cell_type": "markdown",
   "metadata": {},
   "source": [
    "### Fitting ordinal least squares and orthogonal distance regression\n",
    "For the ordinal least squares, given $y=X\\beta+\\epsilon$, this is to find the minima of $(y-X\\beta)^2$. \n",
    "\n",
    "Apply matrix calculus, this is to let the derivative of (with respect to the $\\beta$)\n",
    "$$(\\beta^TX^TX\\beta - 2y^TX\\beta + yTy)$$\n",
    "which is $$(2X^TX\\beta - 2X^Ty = 0)$$\n",
    "If $(X^TX)$ is invertible. We have the solution of $\\beta$\n",
    "$$\\beta = (X^TX)^{-1}X^Ty$$"
   ]
  },
  {
   "cell_type": "code",
   "execution_count": 160,
   "metadata": {},
   "outputs": [
    {
     "data": {
      "text/html": [
       "<div>\n",
       "<style>\n",
       "    .dataframe thead tr:only-child th {\n",
       "        text-align: right;\n",
       "    }\n",
       "\n",
       "    .dataframe thead th {\n",
       "        text-align: left;\n",
       "    }\n",
       "\n",
       "    .dataframe tbody tr th {\n",
       "        vertical-align: top;\n",
       "    }\n",
       "</style>\n",
       "<table border=\"1\" class=\"dataframe\">\n",
       "  <thead>\n",
       "    <tr style=\"text-align: right;\">\n",
       "      <th></th>\n",
       "      <th>b</th>\n",
       "      <th>a</th>\n",
       "    </tr>\n",
       "  </thead>\n",
       "  <tbody>\n",
       "    <tr>\n",
       "      <th>0</th>\n",
       "      <td>9.337740</td>\n",
       "      <td>5.315847</td>\n",
       "    </tr>\n",
       "    <tr>\n",
       "      <th>1</th>\n",
       "      <td>0.493314</td>\n",
       "      <td>5.707222</td>\n",
       "    </tr>\n",
       "    <tr>\n",
       "      <th>2</th>\n",
       "      <td>31.916606</td>\n",
       "      <td>4.372427</td>\n",
       "    </tr>\n",
       "  </tbody>\n",
       "</table>\n",
       "</div>"
      ],
      "text/plain": [
       "           b         a\n",
       "0   9.337740  5.315847\n",
       "1   0.493314  5.707222\n",
       "2  31.916606  4.372427"
      ]
     },
     "execution_count": 160,
     "metadata": {},
     "output_type": "execute_result"
    }
   ],
   "source": [
    "# fit the OLS \n",
    "Beta = []\n",
    "for i in range(1,(N+1),1):\n",
    "    X = v.iloc[(n*i - n):(n*i), :2]\n",
    "    y = v.iloc[(n*i - n):(n*i), 2]\n",
    "    XT = X.T\n",
    "    Beta.append(np.linalg.inv(XT.dot(X)).dot(XT).dot(y))\n",
    "Beta = pd.DataFrame(Beta, columns = ['b', 'a'])\n",
    "Beta.head(3)"
   ]
  },
  {
   "cell_type": "code",
   "execution_count": 161,
   "metadata": {},
   "outputs": [],
   "source": [
    "# get the mean of coefs\n",
    "Beta.loc[N+1] = [np.round(np.mean(Beta['b']),0) , np.round(np.mean(Beta['a']),0) ]\n",
    "ybeta = [x*Beta.loc[N+1, 'a'] + Beta.loc[N+1, 'b'] for x in range(n)]"
   ]
  },
  {
   "cell_type": "code",
   "execution_count": 162,
   "metadata": {},
   "outputs": [
    {
     "data": {
      "image/png": "[encoded data removed]",
      "text/plain": [
       "<matplotlib.figure.Figure at 0x1dc55a07748>"
      ]
     },
     "metadata": {},
     "output_type": "display_data"
    }
   ],
   "source": [
    "# scatter plot \n",
    "# 'OLS Results'\n",
    "def q1_two_plot(fittingname, Beta, ybeta, a, b): \n",
    "    \"\"\"\n",
    "    Assume the True beta {'a':6,'b': 1 }\n",
    "    n = 30 which is the sample size\n",
    "    N = 100 which is the number of simulations\n",
    "    \"\"\"\n",
    "    fig, ax = plt.subplots(2, 1)\n",
    "    fig.suptitle(fittingname, fontsize=16)\n",
    "    # subplot 0\n",
    "    ax[0].scatter(Beta.loc[:N, 'a'], Beta.loc[:N, 'b'])\n",
    "    ax[0].scatter(a,b,marker='x')\n",
    "    ax[0].set_xlabel('a', fontsize=12)\n",
    "    ax[0].set_ylabel('b', fontsize=12)\n",
    "    ax[0].annotate((a,b), (a,b))\n",
    "    # subplot 1\n",
    "    ax[1].plot(v_o['x'], v_o['y'], label='True Line')\n",
    "    ax[1].plot(v_o['x'], ybeta, label='Mean Line')\n",
    "    ax[1].legend()\n",
    "    ax[1].set_xlabel('x', fontsize=12)\n",
    "    ax[1].set_ylabel('y', fontsize=12)\n",
    "    # ?plt.axis()\n",
    "    plt.show()\n",
    "    \n",
    "q1_two_plot('OLS Results', Beta, ybeta, a, b)"
   ]
  },
  {
   "cell_type": "markdown",
   "metadata": {},
   "source": [
    "### Fitting with an outlier data"
   ]
  },
  {
   "cell_type": "code",
   "execution_count": 163,
   "metadata": {},
   "outputs": [
    {
     "name": "stdout",
     "output_type": "stream",
     "text": [
      "Go Outlier\n"
     ]
    },
    {
     "data": {
      "text/plain": [
       "(3000, 3)"
      ]
     },
     "execution_count": 163,
     "metadata": {},
     "output_type": "execute_result"
    }
   ],
   "source": [
    "# v\n",
    "v = noise_gen(n, N, mean, cov, mean1, cov1)\n",
    "v.shape"
   ]
  },
  {
   "cell_type": "code",
   "execution_count": null,
   "metadata": {
    "collapsed": true
   },
   "outputs": [],
   "source": []
  }
 ],
 "metadata": {
  "kernelspec": {
   "display_name": "Python 3",
   "language": "python",
   "name": "python3"
  },
  "language_info": {
   "codemirror_mode": {
    "name": "ipython",
    "version": 3
   },
   "file_extension": ".py",
   "mimetype": "text/x-python",
   "name": "python",
   "nbconvert_exporter": "python",
   "pygments_lexer": "ipython3",
   "version": "3.6.3"
  }
 },
 "nbformat": 4,
 "nbformat_minor": 2
}
